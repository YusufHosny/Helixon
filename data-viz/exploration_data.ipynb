{
 "cells": [
  {
   "cell_type": "markdown",
   "metadata": {},
   "source": [
    "# Only for experimenting with data and bpy \n",
    "## -> DELETE LATER"
   ]
  },
  {
   "cell_type": "code",
   "execution_count": 4,
   "metadata": {},
   "outputs": [],
   "source": [
    "import numpy as np\n",
    "from hlxon_hdf5io import *\n",
    "import bpy\n",
    "import os\n"
   ]
  },
  {
   "cell_type": "code",
   "execution_count": 2,
   "metadata": {},
   "outputs": [],
   "source": [
    "raw_timestamp, raw_9dof, raw_rpy, raw_bno, raw_bmp, raw_pressure, wifidata, gt_timestamp, gt_position, gt_orientation = readHDF5('dwifi')"
   ]
  },
  {
   "cell_type": "code",
   "execution_count": 3,
   "metadata": {},
   "outputs": [
    {
     "name": "stdout",
     "output_type": "stream",
     "text": [
      "(2137, 4) (2137, 3)\n"
     ]
    }
   ],
   "source": [
    "time = np.array(gt_timestamp)\n",
    "orient = np.array(gt_orientation)\n",
    "pos = np.array(gt_position)\n",
    "print(orient.shape, pos.shape)"
   ]
  },
  {
   "cell_type": "code",
   "execution_count": 4,
   "metadata": {},
   "outputs": [],
   "source": [
    "pos_x = pos.T[0].T\n",
    "pos_y = pos.T[1].T\n",
    "pos_z = pos.T[2].T"
   ]
  },
  {
   "cell_type": "code",
   "execution_count": 5,
   "metadata": {},
   "outputs": [],
   "source": [
    "pos = np.array(np.array([pos_x[i], pos_y[i], pos_z[i]]) for i in range(len(pos_x)))"
   ]
  },
  {
   "cell_type": "code",
   "execution_count": 6,
   "metadata": {},
   "outputs": [],
   "source": [
    "bpy.ops.mesh.primitive_monkey_add(size=2, enter_editmode=False, align='WORLD', location=(0, 0, 0), scale=(1, 1, 1))\n",
    "monkey = bpy.context.active_object"
   ]
  },
  {
   "cell_type": "code",
   "execution_count": 7,
   "metadata": {},
   "outputs": [],
   "source": [
    "monkey.rotation_quaternion = (1,2,3,4)"
   ]
  },
  {
   "cell_type": "code",
   "execution_count": 8,
   "metadata": {},
   "outputs": [
    {
     "data": {
      "text/plain": [
       "{'FINISHED'}"
      ]
     },
     "execution_count": 8,
     "metadata": {},
     "output_type": "execute_result"
    }
   ],
   "source": [
    "bpy.ops.mesh.primitive_plane_add()"
   ]
  },
  {
   "cell_type": "code",
   "execution_count": 12,
   "metadata": {},
   "outputs": [],
   "source": [
    "index = 0; \n",
    "\n",
    "def read_file(file_name:str, dataset_name:str):\n",
    "    file_path = os.path.join(\"data\", f\"{file_name}.h5\")\n",
    "    column_position = \"/\".join([dataset_name, \"POSITION\"])\n",
    "    column_orientation = \"/\".join([dataset_name, \"ORIENTATION\"])\n",
    "    global index\n",
    "    with h5py.File(file_path, 'r') as f:\n",
    "        data_position = f[column_position][:]\n",
    "        data_orientation = f[column_orientation][:]\n",
    "        if index < data_position.shape[0] :\n",
    "            location = data_position[index]\n",
    "            quaternion = data_orientation[index]\n",
    "            index += 1\n",
    "            return index -1, location, quaternion\n",
    "        return None\n",
    "        \n",
    "\n"
   ]
  },
  {
   "cell_type": "code",
   "execution_count": 21,
   "metadata": {},
   "outputs": [],
   "source": [
    "i, loc, quat = read_file(\"spiral1\", \"GT_DATA\")"
   ]
  },
  {
   "cell_type": "code",
   "execution_count": 22,
   "metadata": {},
   "outputs": [
    {
     "name": "stdout",
     "output_type": "stream",
     "text": [
      "4\n",
      "[-0.175764  0.201106  0.324993]\n",
      "[ 0.900164  0.426522 -0.026002  0.084307]\n"
     ]
    }
   ],
   "source": [
    "print(i)\n",
    "print(loc)\n",
    "print(quat)"
   ]
  }
 ],
 "metadata": {
  "kernelspec": {
   "display_name": "base",
   "language": "python",
   "name": "python3"
  },
  "language_info": {
   "codemirror_mode": {
    "name": "ipython",
    "version": 3
   },
   "file_extension": ".py",
   "mimetype": "text/x-python",
   "name": "python",
   "nbconvert_exporter": "python",
   "pygments_lexer": "ipython3",
   "version": "3.11.7"
  }
 },
 "nbformat": 4,
 "nbformat_minor": 2
}
